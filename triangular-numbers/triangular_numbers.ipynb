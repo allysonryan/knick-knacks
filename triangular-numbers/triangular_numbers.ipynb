{
 "cells": [
  {
   "cell_type": "markdown",
   "metadata": {},
   "source": [
    "# Searching a pairwise distance matrix for specific points:\n",
    "\n",
    "In this notebook you can compare the performance of a classic combinatorics method to find the indices of two points in an array with a precise distance to scipy's squareform method and a [triangular numbers approach](https://mathworld.wolfram.com/TriangularNumber.html).\n",
    "\n",
    "The first half of this notebook steps through an example of how the triangular numbers approach works. In the second half, you can compare the time required for each method, which clearly displays the decrease in computational time \n",
    "of using triangular numbers."
   ]
  },
  {
   "cell_type": "code",
   "execution_count": 1,
   "metadata": {},
   "outputs": [],
   "source": [
    "# import required functionalities\n",
    "\n",
    "from __future__ import division, print_function\n",
    "\n",
    "import time\n",
    "import numpy as np\n",
    "import matplotlib.pyplot as plt\n",
    "\n",
    "from os import getcwd\n",
    "from os.path import join\n",
    "from itertools import combinations\n",
    "from scipy.spatial.distance import pdist, squareform\n",
    "\n",
    "%matplotlib inline"
   ]
  },
  {
   "cell_type": "code",
   "execution_count": 2,
   "metadata": {},
   "outputs": [],
   "source": [
    "# define triangular numbers-based search function\n",
    "\n",
    "def index_pair_from_condensed_form(array, condensed_idx):\n",
    "    \n",
    "    '''this function uses triangular numbers formulas to convert a condensed form distance matrix index\n",
    "       (condensed_idx) into a pair of indices for returning points from the original pointset (array).\n",
    "       \n",
    "       \n",
    "       Let T(x) be the x'th triangular number (i.e., the sum of the numbers from 1 to x). \n",
    "       The formula for T(x) is simple:\n",
    "       T(x) = (x * (x + 1)) / 2\n",
    "       \n",
    "       \n",
    "       Given y = T(x) we can calculate x by inverting the above formula:\n",
    "       x = (((8y + 1) ** 0.5) - 1) / 2'''\n",
    "    \n",
    "    i = condensed_idx\n",
    "    n = array.shape[0] - 1\n",
    "    t_n = (n * (n+1)) / 2\n",
    "    y = t_n - i - 1\n",
    "    d = 1 + int((((8 * y + 1) ** 0.5) - 1) / 2)\n",
    "    k = n - d\n",
    "    k_star = 1 + i + k + ((d * (d + 1)) / 2) - t_n\n",
    "    \n",
    "    return int(k), int(k_star)"
   ]
  },
  {
   "cell_type": "markdown",
   "metadata": {},
   "source": [
    "### Create a matrix with shape (n_pts, 3) to store n points of interest with dimension m (e.g., a pointcloud)"
   ]
  },
  {
   "cell_type": "code",
   "execution_count": 3,
   "metadata": {},
   "outputs": [],
   "source": [
    "n_pts = 5000\n",
    "m_dim = 3\n",
    "largest_val = 500\n",
    "\n",
    "arr = np.random.randint(0, largest_val, (n_pts, m_dim))"
   ]
  },
  {
   "cell_type": "markdown",
   "metadata": {},
   "source": [
    "### Compute the pairwise distance matrix of the point set"
   ]
  },
  {
   "cell_type": "code",
   "execution_count": 4,
   "metadata": {},
   "outputs": [],
   "source": [
    "d = pdist(arr)"
   ]
  },
  {
   "cell_type": "markdown",
   "metadata": {},
   "source": [
    "### Find array index of desired mathematical argument (e.g., minimal distance)"
   ]
  },
  {
   "cell_type": "code",
   "execution_count": 5,
   "metadata": {},
   "outputs": [],
   "source": [
    "idx = np.argmin(d)"
   ]
  },
  {
   "cell_type": "markdown",
   "metadata": {},
   "source": [
    "### Assign result of mathematical argument to a variable"
   ]
  },
  {
   "cell_type": "code",
   "execution_count": 6,
   "metadata": {},
   "outputs": [
    {
     "name": "stdout",
     "output_type": "stream",
     "text": [
      "True\n"
     ]
    }
   ],
   "source": [
    "value = d[idx]\n",
    "print(value == np.amin(d))"
   ]
  },
  {
   "cell_type": "markdown",
   "metadata": {},
   "source": [
    "### Convert index to pair of indices in original point set"
   ]
  },
  {
   "cell_type": "code",
   "execution_count": 7,
   "metadata": {},
   "outputs": [],
   "source": [
    "idx_1, idx_2 = index_pair_from_condensed_form(arr, idx)"
   ]
  },
  {
   "cell_type": "markdown",
   "metadata": {},
   "source": [
    "### Confirm the returned indices result in the same value as math_arg"
   ]
  },
  {
   "cell_type": "code",
   "execution_count": 8,
   "metadata": {},
   "outputs": [
    {
     "name": "stdout",
     "output_type": "stream",
     "text": [
      "True\n"
     ]
    }
   ],
   "source": [
    "p1 = arr[idx_1,...]\n",
    "p2 = arr[idx_2,...]\n",
    "confirm_val = np.linalg.norm(p1 - p2)\n",
    "print(value == confirm_val)"
   ]
  },
  {
   "cell_type": "markdown",
   "metadata": {},
   "source": [
    "### If the result is confirmed (==True), return the points from the original array"
   ]
  },
  {
   "cell_type": "code",
   "execution_count": 9,
   "metadata": {},
   "outputs": [
    {
     "name": "stdout",
     "output_type": "stream",
     "text": [
      "[ 71 344 393] [ 70 344 393]\n"
     ]
    }
   ],
   "source": [
    "print('point 1:', p1)\n",
    "print('point 2:', p2)"
   ]
  },
  {
   "cell_type": "markdown",
   "metadata": {},
   "source": [
    "### Compare how comp time scales for all three methods from the minimum set comparison (n_pts = 2) up to your dataset's size & save the results as a plot"
   ]
  },
  {
   "cell_type": "code",
   "execution_count": null,
   "metadata": {},
   "outputs": [],
   "source": [
    "a = np.random.randint(0, largest_val, (n_pts, m_dim))\n",
    "\n",
    "subset_sizes = range(2, n_pts, 1)\n",
    "n_loops = len(subset_sizes)\n",
    "\n",
    "time_pdist = np.zeros((n_loops,1))\n",
    "time_tri = np.copy(time_pdist)\n",
    "time_comb_idx_det = np.copy(time_pdist)\n",
    "time_sqform_unravel = np.copy(time_pdist)\n",
    "\n",
    "counter = 0\n",
    "for i in subset_sizes:\n",
    "    a_subset = a[:i, :]\n",
    "\n",
    "    t_0 = time.time()\n",
    "    d = pdist(a_subset)\n",
    "    time_pdist[counter] = time.time() - t_0\n",
    "    \n",
    "    t_0 = time.time()\n",
    "    idx_tri = index_pair_from_condensed_form(a_subset, np.argmax(d))\n",
    "    time_tri[counter] = time.time() - t_0\n",
    "\n",
    "    t_0 = time.time()\n",
    "    indices = list(combinations(range(i), 2))\n",
    "    comb_idx = indices[np.argmax(d)]\n",
    "    time_comb_idx_det[counter] = time.time() - t_0\n",
    "    \n",
    "    t_0 = time.time()\n",
    "    d_sq = squareform(d)\n",
    "    idx_unravel = np.unravel_index(np.argmax(d_sq), d_sq.shape)\n",
    "    time_sqform_unravel[counter] = time.time() - t_0\n",
    "    \n",
    "    counter += 1\n",
    "    \n",
    "print(len(time_tri) == len(time_comb_idx_det) == len(time_sqform_unravel))\n",
    "\n",
    "# initialize plot\n",
    "plt.figure(figsize=(10,10))\n",
    "x = np.arange(0,n_loops)\n",
    "\n",
    "# plot three datasets (x = n_pts, y = comp_time)\n",
    "plt.plot(x, time_comb_idx_det, color = 'darkturquoise', label = 'itertools')\n",
    "plt.plot(x, time_sqform_unravel, color = 'orange', label = 'scipy.spatial')\n",
    "plt.plot(x, time_tri, color = 'purple', label = 'triangular numbers')\n",
    "\n",
    "# plot specs\n",
    "x_step = int(n_pts/5)\n",
    "plt.xticks(range(0,int(n_pts*1.1),x_step), fontsize = 24)\n",
    "plt.xlim(0,n_pts)\n",
    "\n",
    "y_max = np.amax(np.concatenate((time_tri, time_comb_idx_det, time_sqform_unravel)))\n",
    "y_step = y_max/5\n",
    "plt.yticks(fontsize = 24)\n",
    "plt.ylim(0, y_max*1.1)\n",
    "\n",
    "plt.xlabel('N points pairwise compared', fontsize = 36)\n",
    "plt.ylabel('time (seconds)', fontsize = 36)\n",
    "plt.legend(fontsize = 24)\n",
    "plt.tight_layout()\n",
    "plt.show()"
   ]
  }
 ],
 "metadata": {
  "kernelspec": {
   "display_name": "Python 3",
   "language": "python",
   "name": "python3"
  },
  "language_info": {
   "codemirror_mode": {
    "name": "ipython",
    "version": 3
   },
   "file_extension": ".py",
   "mimetype": "text/x-python",
   "name": "python",
   "nbconvert_exporter": "python",
   "pygments_lexer": "ipython3",
   "version": "3.8.0"
  }
 },
 "nbformat": 4,
 "nbformat_minor": 4
}
